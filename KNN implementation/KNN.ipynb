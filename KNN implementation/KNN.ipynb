{
 "cells": [
  {
   "cell_type": "code",
   "execution_count": 574,
   "metadata": {},
   "outputs": [],
   "source": [
    "import re\n",
    "import random\n",
    "import math"
   ]
  },
  {
   "cell_type": "code",
   "execution_count": 594,
   "metadata": {},
   "outputs": [
    {
     "data": {
      "text/plain": [
       "['Height, Weight, Age, Class\\n',\n",
       " '1.70, 65, 20, Software developer\\n',\n",
       " '1.90, 85, 33, Contractor\\n',\n",
       " '1.78, 76, 31, Contractor\\n',\n",
       " '1.73, 74, 24, Software developer\\n',\n",
       " '1.81, 75, 35, Contractor\\n',\n",
       " '1.73, 70, 75, Scientist\\n',\n",
       " '1.80, 71, 63, Scientist\\n',\n",
       " '1.75, 69, 25, Software developer']"
      ]
     },
     "execution_count": 594,
     "metadata": {},
     "output_type": "execute_result"
    }
   ],
   "source": [
    "f=open(r'C:\\Users\\rakesh.amman\\Desktop\\Projects\\KNN implementation\\data.txt')\n",
    "data1=f.readlines()\n",
    "f.close()\n",
    "data1"
   ]
  },
  {
   "cell_type": "code",
   "execution_count": 595,
   "metadata": {},
   "outputs": [
    {
     "data": {
      "text/plain": [
       "['Height, Weight, Age, Class',\n",
       " '70, 65, 20, Software developer',\n",
       " '90, 85, 33, Contractor',\n",
       " '78, 76, 31, Contractor',\n",
       " '73, 74, 24, Software developer',\n",
       " '81, 75, 35, Contractor',\n",
       " '73, 70, 75, Scientist',\n",
       " '80, 71, 63, Scientist']"
      ]
     },
     "execution_count": 595,
     "metadata": {},
     "output_type": "execute_result"
    }
   ],
   "source": [
    "data=[]\n",
    "for i in data1:\n",
    "    replace='\\n'\n",
    "    if(replace in i):\n",
    "        replaced=re.sub(replace,'',i)\n",
    "        \n",
    "        if('1.' in replaced):\n",
    "            replaced=re.sub('^[1]','',replaced)\n",
    "            replaced=re.sub('^[.]','',replaced)\n",
    "            data.append(replaced)\n",
    "            \n",
    "        else:\n",
    "            data.append(replaced)\n",
    "            \n",
    "data"
   ]
  },
  {
   "cell_type": "code",
   "execution_count": 611,
   "metadata": {},
   "outputs": [],
   "source": [
    "feature_names1=data[0]\n",
    "features1=data[1:]"
   ]
  },
  {
   "cell_type": "code",
   "execution_count": 612,
   "metadata": {},
   "outputs": [
    {
     "data": {
      "text/plain": [
       "['Height', ' Weight', ' Age', ' Class']"
      ]
     },
     "execution_count": 612,
     "metadata": {},
     "output_type": "execute_result"
    }
   ],
   "source": [
    "feature_names=feature_names1.split(',')\n",
    "feature_names"
   ]
  },
  {
   "cell_type": "code",
   "execution_count": 613,
   "metadata": {},
   "outputs": [
    {
     "data": {
      "text/plain": [
       "['70, 65, 20, Software developer',\n",
       " '90, 85, 33, Contractor',\n",
       " '78, 76, 31, Contractor',\n",
       " '73, 74, 24, Software developer',\n",
       " '81, 75, 35, Contractor',\n",
       " '73, 70, 75, Scientist',\n",
       " '80, 71, 63, Scientist']"
      ]
     },
     "execution_count": 613,
     "metadata": {},
     "output_type": "execute_result"
    }
   ],
   "source": [
    "features1"
   ]
  },
  {
   "cell_type": "code",
   "execution_count": 614,
   "metadata": {},
   "outputs": [],
   "source": [
    "features=[]\n",
    "\n",
    "for r in features1:\n",
    "    r1=r.split(',')\n",
    "    features.append(r1)"
   ]
  },
  {
   "cell_type": "code",
   "execution_count": 615,
   "metadata": {},
   "outputs": [
    {
     "data": {
      "text/plain": [
       "[['70', ' 65', ' 20', ' Software developer'],\n",
       " ['90', ' 85', ' 33', ' Contractor'],\n",
       " ['78', ' 76', ' 31', ' Contractor'],\n",
       " ['73', ' 74', ' 24', ' Software developer'],\n",
       " ['81', ' 75', ' 35', ' Contractor'],\n",
       " ['73', ' 70', ' 75', ' Scientist'],\n",
       " ['80', ' 71', ' 63', ' Scientist']]"
      ]
     },
     "execution_count": 615,
     "metadata": {},
     "output_type": "execute_result"
    }
   ],
   "source": [
    "features"
   ]
  },
  {
   "cell_type": "code",
   "execution_count": 601,
   "metadata": {},
   "outputs": [
    {
     "data": {
      "text/plain": [
       "[{'Height': '70',\n",
       "  ' Weight': ' 65',\n",
       "  ' Age': ' 20',\n",
       "  ' Class': ' Software developer'},\n",
       " {'Height': '90', ' Weight': ' 85', ' Age': ' 33', ' Class': ' Contractor'},\n",
       " {'Height': '78', ' Weight': ' 76', ' Age': ' 31', ' Class': ' Contractor'},\n",
       " {'Height': '73',\n",
       "  ' Weight': ' 74',\n",
       "  ' Age': ' 24',\n",
       "  ' Class': ' Software developer'},\n",
       " {'Height': '81', ' Weight': ' 75', ' Age': ' 35', ' Class': ' Contractor'},\n",
       " {'Height': '73', ' Weight': ' 70', ' Age': ' 75', ' Class': ' Scientist'},\n",
       " {'Height': '80', ' Weight': ' 71', ' Age': ' 63', ' Class': ' Scientist'}]"
      ]
     },
     "execution_count": 601,
     "metadata": {},
     "output_type": "execute_result"
    }
   ],
   "source": [
    "items=[]\n",
    "Items=[]\n",
    "length=len(features)\n",
    "i=0\n",
    "\n",
    "length_features=len(feature_names)\n",
    "while(length>i):\n",
    "    dic={}\n",
    "    j=0\n",
    "    while(length_features>j):\n",
    "        #print(feature_names[j],features[i][j])\n",
    "        dic[feature_names[j]]=features[i][j]\n",
    "        j+=1\n",
    "        #print(dic)\n",
    "    items.append(dic)\n",
    "    Items.append(dic[' Class'])\n",
    "    i+=1\n",
    "items"
   ]
  },
  {
   "cell_type": "code",
   "execution_count": 602,
   "metadata": {},
   "outputs": [],
   "source": [
    "l1=0\n",
    "l2=len(items)\n",
    "while(l1<l2):\n",
    "    #print(items)\n",
    "    del(items[l1][' Class'])\n",
    "    l1+=1"
   ]
  },
  {
   "cell_type": "code",
   "execution_count": 603,
   "metadata": {},
   "outputs": [
    {
     "data": {
      "text/plain": [
       "[' Software developer',\n",
       " ' Contractor',\n",
       " ' Contractor',\n",
       " ' Software developer',\n",
       " ' Contractor',\n",
       " ' Scientist',\n",
       " ' Scientist']"
      ]
     },
     "execution_count": 603,
     "metadata": {},
     "output_type": "execute_result"
    }
   ],
   "source": [
    "Items"
   ]
  },
  {
   "cell_type": "code",
   "execution_count": 604,
   "metadata": {},
   "outputs": [
    {
     "data": {
      "text/plain": [
       "[{'Height': '70', ' Weight': ' 65', ' Age': ' 20'},\n",
       " {'Height': '90', ' Weight': ' 85', ' Age': ' 33'},\n",
       " {'Height': '78', ' Weight': ' 76', ' Age': ' 31'},\n",
       " {'Height': '73', ' Weight': ' 74', ' Age': ' 24'},\n",
       " {'Height': '81', ' Weight': ' 75', ' Age': ' 35'},\n",
       " {'Height': '73', ' Weight': ' 70', ' Age': ' 75'},\n",
       " {'Height': '80', ' Weight': ' 71', ' Age': ' 63'}]"
      ]
     },
     "execution_count": 604,
     "metadata": {},
     "output_type": "execute_result"
    }
   ],
   "source": [
    "items"
   ]
  },
  {
   "cell_type": "code",
   "execution_count": 605,
   "metadata": {},
   "outputs": [],
   "source": [
    "def EucDis(x,y):\n",
    "    s=0\n",
    "    \n",
    "    for key in x.keys():\n",
    "        s+= ((int(x[key])-int(y[key])) **2)\n",
    "    s=math.sqrt(s)\n",
    "    return s"
   ]
  },
  {
   "cell_type": "code",
   "execution_count": 606,
   "metadata": {},
   "outputs": [],
   "source": [
    "def find_class(neighbors,k,items):\n",
    "    clas=[]\n",
    "    index1=[]\n",
    "    list1neigbors=neighbors\n",
    "    sortedneigh=sorted(neighbors)\n",
    "    nearestneigh=sortedneigh[:k]\n",
    "    \n",
    "    for t in nearestneigh:\n",
    "        index1.append(list1neigbors.index(t))\n",
    "        \n",
    "    \n",
    "    for y in index1:\n",
    "        clas.append(Items[y])\n",
    "        \n",
    "    return clas,index1"
   ]
  },
  {
   "cell_type": "code",
   "execution_count": 607,
   "metadata": {},
   "outputs": [],
   "source": [
    "def classify(nItem,k,Items):\n",
    "    \n",
    "    if(k>len(Items)):\n",
    "        return 'k is greater than the number of trained data points, please enter k value less than the given data points'\n",
    "    \n",
    "    # Hold nearest neighbors. \n",
    "    # First item is distance,  \n",
    "    # second class\n",
    "    neighbors=[]\n",
    "    \n",
    "    for  item in Items:\n",
    "        #find Euclidean distance\n",
    "        distance=EucDis(nItem,item)\n",
    "        neighbors.append(distance)\n",
    "        \n",
    "        \n",
    "    findclass,index=find_class(neighbors,k,items)\n",
    "    \n",
    "    prediction_result= prediction(findclass)\n",
    "    \n",
    "    return prediction_result"
   ]
  },
  {
   "cell_type": "code",
   "execution_count": 608,
   "metadata": {},
   "outputs": [],
   "source": [
    "def prediction(z):\n",
    "    \n",
    "    counts=[]\n",
    "    predictions=[]\n",
    "    for m in z:\n",
    "        cou=z.count(m)\n",
    "        predictions.append(m)\n",
    "        counts.append(cou)\n",
    "    maxvalu=max(counts)\n",
    "    pred= predictions[counts.index(maxvalu)]\n",
    "    return (print('The prediction for given data points is a',pred))"
   ]
  },
  {
   "cell_type": "code",
   "execution_count": 609,
   "metadata": {},
   "outputs": [
    {
     "name": "stdout",
     "output_type": "stream",
     "text": [
      "The prediction for given data points is a  Software developer\n"
     ]
    }
   ],
   "source": [
    "classify({'Height': '70', ' Weight': '60', ' Age': '35'},3,items)"
   ]
  },
  {
   "cell_type": "code",
   "execution_count": null,
   "metadata": {},
   "outputs": [],
   "source": []
  },
  {
   "cell_type": "code",
   "execution_count": null,
   "metadata": {},
   "outputs": [],
   "source": []
  },
  {
   "cell_type": "code",
   "execution_count": null,
   "metadata": {},
   "outputs": [],
   "source": []
  }
 ],
 "metadata": {
  "kernelspec": {
   "display_name": "Python 3",
   "language": "python",
   "name": "python3"
  },
  "language_info": {
   "codemirror_mode": {
    "name": "ipython",
    "version": 3
   },
   "file_extension": ".py",
   "mimetype": "text/x-python",
   "name": "python",
   "nbconvert_exporter": "python",
   "pygments_lexer": "ipython3",
   "version": "3.7.3"
  }
 },
 "nbformat": 4,
 "nbformat_minor": 2
}
